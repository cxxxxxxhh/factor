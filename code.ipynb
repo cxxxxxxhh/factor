{
 "cells": [
  {
   "cell_type": "code",
   "execution_count": 2,
   "metadata": {},
   "outputs": [],
   "source": [
    "# 导入数据\n",
    "import pandas as pd\n",
    "\n",
    "amount_adf0 = pd.read_csv('amount_adf0.csv')"
   ]
  },
  {
   "cell_type": "code",
   "execution_count": 6,
   "metadata": {},
   "outputs": [
    {
     "data": {
      "text/plain": [
       "[717567546.58, 578450487.59, 501360093.66, 399696183.08, 383347732.55]"
      ]
     },
     "execution_count": 6,
     "metadata": {},
     "output_type": "execute_result"
    }
   ],
   "source": [
    "amount_adf0.set_index(pd.to_datetime(amount_adf0['date'],format='%Y-%m-%d'),inplace=True)\n",
    "#amount_adf0\n",
    "#amount_adf0.iloc[0:1,0:3]\n",
    "start_date=\"2013/1/1\"\n",
    "end_date=\"2013/1/10\"\n",
    "stock=\"000001.SZ\"\n",
    "amount_adf0.loc[start_date:end_date, stock].tolist()"
   ]
  },
  {
   "cell_type": "code",
   "execution_count": 217,
   "metadata": {},
   "outputs": [],
   "source": [
    "symbol_list=pd.read_csv('symbol_list.csv')"
   ]
  },
  {
   "cell_type": "code",
   "execution_count": 218,
   "metadata": {},
   "outputs": [],
   "source": [
    "mktcap_adf0=pd.read_csv('mktcap_adf0.csv')"
   ]
  },
  {
   "cell_type": "code",
   "execution_count": 219,
   "metadata": {},
   "outputs": [],
   "source": [
    "turnover_adf0=pd.read_csv('turnover_adf0.csv')"
   ]
  },
  {
   "cell_type": "code",
   "execution_count": 220,
   "metadata": {},
   "outputs": [],
   "source": [
    "close_adf2=pd.read_csv('close_adf2.csv')"
   ]
  },
  {
   "cell_type": "code",
   "execution_count": 221,
   "metadata": {},
   "outputs": [],
   "source": [
    "high_adf2=pd.read_csv('high_adf2.csv')"
   ]
  },
  {
   "cell_type": "code",
   "execution_count": 222,
   "metadata": {},
   "outputs": [],
   "source": [
    "low_adf2=pd.read_csv('low_adf2.csv')"
   ]
  },
  {
   "cell_type": "code",
   "execution_count": 223,
   "metadata": {},
   "outputs": [],
   "source": [
    "open_adf2=pd.read_csv('open_adf2.csv')"
   ]
  },
  {
   "cell_type": "code",
   "execution_count": 224,
   "metadata": {},
   "outputs": [],
   "source": [
    "shareoutstanding_adf2=pd.read_csv('sharesoutstanding_adf2.csv')"
   ]
  },
  {
   "cell_type": "code",
   "execution_count": 225,
   "metadata": {},
   "outputs": [],
   "source": [
    "volume_adf2=pd.read_csv('volume_adf2.csv')"
   ]
  },
  {
   "cell_type": "code",
   "execution_count": 226,
   "metadata": {},
   "outputs": [],
   "source": [
    "vwap_adf2=pd.read_csv('vwap_adf2.csv')"
   ]
  },
  {
   "cell_type": "code",
   "execution_count": 227,
   "metadata": {},
   "outputs": [],
   "source": [
    "ipo3mon=pd.read_csv('ipo3mon.csv')"
   ]
  },
  {
   "cell_type": "code",
   "execution_count": 1,
   "metadata": {},
   "outputs": [
    {
     "ename": "NameError",
     "evalue": "name 'pd' is not defined",
     "output_type": "error",
     "traceback": [
      "\u001b[0;31m---------------------------------------------------------------------------\u001b[0m",
      "\u001b[0;31mNameError\u001b[0m                                 Traceback (most recent call last)",
      "Cell \u001b[0;32mIn[1], line 1\u001b[0m\n\u001b[0;32m----> 1\u001b[0m stInfo\u001b[38;5;241m=\u001b[39mpd\u001b[38;5;241m.\u001b[39mread_csv(\u001b[38;5;124m'\u001b[39m\u001b[38;5;124mstInfo.csv\u001b[39m\u001b[38;5;124m'\u001b[39m)\n\u001b[1;32m      2\u001b[0m stInfo\u001b[38;5;241m.\u001b[39mset_index(pd\u001b[38;5;241m.\u001b[39mto_datetime(stInfo[\u001b[38;5;124m'\u001b[39m\u001b[38;5;124mdate\u001b[39m\u001b[38;5;124m'\u001b[39m],\u001b[38;5;28mformat\u001b[39m\u001b[38;5;241m=\u001b[39m\u001b[38;5;124m'\u001b[39m\u001b[38;5;124m%\u001b[39m\u001b[38;5;124mY-\u001b[39m\u001b[38;5;124m%\u001b[39m\u001b[38;5;124mm-\u001b[39m\u001b[38;5;132;01m%d\u001b[39;00m\u001b[38;5;124m'\u001b[39m),inplace\u001b[38;5;241m=\u001b[39m\u001b[38;5;28;01mTrue\u001b[39;00m)\n",
      "\u001b[0;31mNameError\u001b[0m: name 'pd' is not defined"
     ]
    }
   ],
   "source": [
    "stInfo=pd.read_csv('stInfo.csv')\n",
    "stInfo.set_index(pd.to_datetime(stInfo['date'],format='%Y-%m-%d'),inplace=True)"
   ]
  },
  {
   "cell_type": "code",
   "execution_count": 229,
   "metadata": {},
   "outputs": [],
   "source": [
    "transactionInfo=pd.read_csv('transactionInfo.csv')"
   ]
  },
  {
   "cell_type": "code",
   "execution_count": 230,
   "metadata": {},
   "outputs": [],
   "source": [
    "zdtInfo=pd.read_csv('zdtInfo.csv')"
   ]
  },
  {
   "cell_type": "code",
   "execution_count": 6,
   "metadata": {},
   "outputs": [],
   "source": [
    "#判断是否是新股/ST股\n",
    "from datetime import datetime, timedelta\n",
    "import pandas as pd\n",
    "\n",
    "def remove_columns(start_date_str, end_date_str, stInfo, ipo3mon,amount_adf0):\n",
    "    amount_new=amount_adf0.loc[start_date_str:end_date_str]\n",
    "    for j in range(stInfo.shape[1]):#j遍历列\n",
    "        if any(stInfo.loc[start_date_str:end_date_str].iloc[:,j]):##############怎样索引？\n",
    "            amount_new.loc[start_date_str:end_date_str].iloc[:,j]=np.nan\n",
    "            ##把j列所有的值设为NULL ##ST股完成\n",
    "        if (ipo3mon.loc[start_date_str:end_date_str].iloc[:,j] == False).any():\n",
    "            amount_new.loc[start_date_str:end_date_str].iloc[:,j]=np.nan\n",
    "            ##新股完成\n",
    "    #amount_new=amount_new.dropna(axis=1)\n",
    "    return amount_new\n",
    "##到目前为止还没有删值"
   ]
  },
  {
   "cell_type": "code",
   "execution_count": null,
   "metadata": {},
   "outputs": [],
   "source": [
    "##删值，如果不删值会影响结果吗？"
   ]
  },
  {
   "cell_type": "code",
   "execution_count": 7,
   "metadata": {},
   "outputs": [],
   "source": [
    "##Alpha 001 ???????????????\n",
    "##(-1 * CORR(RANK(DELTA(LOG(VOLUME), 1)), RANK(((CLOSE - OPEN) / OPEN)), 6))\n",
    "def Alpha001(end_data_str):\n",
    "    delta_volume=np.log(volume_adf2)\n",
    "    delta_volume_diff=np.diff(delta_volume)\n",
    "    rank_delta_volume=np.argsort(delta_volume_diff)\n",
    "\n",
    "    rank_price=np.argsort((close_adf2-open_adf2)/open_adf2)\n",
    "\n",
    "    index=volume_adf2.index.get_loc(end_data_str)\n",
    "\n",
    "    X1=rank_delta_volume.iloc[index-6:index]\n",
    "    Y1=rank_price.iloc[index-6:index]\n",
    "\n",
    "    corr=X1.corr(Y1,method=\"pearson\")\n",
    "\n",
    "    return(corr)\n",
    "\n",
    "\n"
   ]
  },
  {
   "cell_type": "code",
   "execution_count": null,
   "metadata": {},
   "outputs": [],
   "source": [
    "##Alpha002 "
   ]
  }
 ],
 "metadata": {
  "kernelspec": {
   "display_name": "Python 3",
   "language": "python",
   "name": "python3"
  },
  "language_info": {
   "codemirror_mode": {
    "name": "ipython",
    "version": 3
   },
   "file_extension": ".py",
   "mimetype": "text/x-python",
   "name": "python",
   "nbconvert_exporter": "python",
   "pygments_lexer": "ipython3",
   "version": "3.11.7"
  }
 },
 "nbformat": 4,
 "nbformat_minor": 2
}
